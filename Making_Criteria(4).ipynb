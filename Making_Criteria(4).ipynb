{
 "cells": [
  {
   "cell_type": "code",
   "execution_count": null,
   "metadata": {
    "colab": {},
    "colab_type": "code",
    "id": "kiuXPSZ1J40c"
   },
   "outputs": [],
   "source": [
    "import numpy as np\n",
    "import glob\n",
    "from PIL import Image\n",
    "from numpy import expand_dims\n",
    "import os\n",
    "import cv2\n",
    "import numpy as np\n",
    "import matplotlib.pyplot as plt\n",
    "import shutil\n",
    "from keras.preprocessing.image import ImageDataGenerator, array_to_img, img_to_array, load_img\n",
    "from keras.models import load_model\n",
    "from sklearn.metrics.pairwise import cosine_similarity\n",
    "import scipy\n",
    "from scipy.stats import shapiro, levene, ttest_ind, mannwhitneyu\n",
    "import tensorflow as tf\n",
    "import pandas as pd"
   ]
  },
  {
   "cell_type": "code",
   "execution_count": null,
   "metadata": {
    "colab": {},
    "colab_type": "code",
    "id": "3Hr7E_HYhI0q"
   },
   "outputs": [],
   "source": [
    "# validation set을 최종 모델에 통화 시킨 feature vectors\n",
    "validation_matrix = np.load(\"/content/drive/Shared drives/선빵팀 :) 2/validation_matrix/validation_matrix_woong.npy\")\n"
   ]
  },
  {
   "cell_type": "markdown",
   "metadata": {
    "colab_type": "text",
    "id": "XFnroiUElRiz"
   },
   "source": [
    "# 정규성, 동분산성, 평균검정 함수"
   ]
  },
  {
   "cell_type": "code",
   "execution_count": null,
   "metadata": {
    "colab": {},
    "colab_type": "code",
    "id": "xN9upfVnob-6"
   },
   "outputs": [],
   "source": [
    "# 정규성 검정\n",
    "def normal(group):\n",
    "    result = shapiro(group)\n",
    "    w = result[0]\n",
    "    p = result[1]\n",
    "    if p <0.05:\n",
    "        normality = 1\n",
    "    else:\n",
    "        normality = 0\n",
    "    return normality, p\n",
    "\n",
    "# 동분산성 검정\n",
    "def homogenity(group1, group2):\n",
    "    w, p = levene(group1, group2)\n",
    "    if p < 0.05:\n",
    "        homo = 1\n",
    "    else:\n",
    "        homo = 0\n",
    "    return homo, p\n",
    "\n",
    "# 두 그룹 간 평균 t 검정 (정규성 만족할 경우)\n",
    "def t_test(group1, group2, homo):\n",
    "    homo = (homo==1)  \n",
    "    w, p = ttest_ind(group1, group2, equal_var = homo)\n",
    "    #w, p = w[0], p[0]\n",
    "    if p < 0.05:\n",
    "        diff = 1\n",
    "    else:\n",
    "        diff = 0\n",
    "    return diff, p\n",
    "\n",
    "\n",
    "# 두 그룹 간 평균 검정 - Mann-whitney test (정규성 불만족할 경우)\n",
    "def man_whitney(group1, group2, home):\n",
    "    w, p = scipy.stats.mannwhitneyu(group1, group2, use_continuity=True, alternative=None)\n",
    "    if p < 0.05:\n",
    "        diff = 1\n",
    "    else:\n",
    "        diff = 0\n",
    "    return diff, p"
   ]
  },
  {
   "cell_type": "markdown",
   "metadata": {
    "colab_type": "text",
    "id": "t35mOSkeVrMk"
   },
   "source": [
    "# Inner_similarity들 끼리 평균 차이"
   ]
  },
  {
   "cell_type": "markdown",
   "metadata": {
    "colab_type": "text",
    "id": "RmndG1UlAAra"
   },
   "source": [
    "## 카테고리 별 내부 유사도 집단 정리하기(inner_cosine_similarity)"
   ]
  },
  {
   "cell_type": "code",
   "execution_count": null,
   "metadata": {
    "colab": {},
    "colab_type": "code",
    "id": "Xi9JD0W4yik3"
   },
   "outputs": [],
   "source": [
    "def inner_cosine_similarity(validation_matrix):\n",
    "    similarity_matrix = cosine_similarity(validation_matrix)\n",
    "\n",
    "    category_cosine_sim = {}\n",
    "\n",
    "    key = 0 # 딕셔너리 key (카테고리)\n",
    "    for i in range(0,91):\n",
    "        first = 111*i\n",
    "        last = 111*(i+1)\n",
    "        # i 번째 카테고리\n",
    "        similarity_matrix_i = similarity_matrix[first:last,first:last]\n",
    "\n",
    "\n",
    "        value_list = []\n",
    "        for row in range(0, 111):\n",
    "            for col in range(row+1, 111):\n",
    "                value = similarity_matrix_i[row][col]\n",
    "                value_list.append(value)\n",
    "        category_cosine_sim[str(key)] = np.array(value_list)\n",
    "        key = key + 1\n",
    "    return category_cosine_sim"
   ]
  },
  {
   "cell_type": "code",
   "execution_count": null,
   "metadata": {
    "colab": {},
    "colab_type": "code",
    "id": "8nBJTEwbcNXO"
   },
   "outputs": [],
   "source": [
    "inner_cosine_sim = inner_cosine_similarity(validation_matrix)\n",
    "inner_cosine_sim"
   ]
  },
  {
   "cell_type": "code",
   "execution_count": null,
   "metadata": {
    "colab": {},
    "colab_type": "code",
    "id": "Cy2yiKTlZEWJ"
   },
   "outputs": [],
   "source": [
    "def inner_cosine_means(inner_cosine_sim):\n",
    "    category_cosine_means = {}\n",
    "\n",
    "    for key, value in inner_cosine_sim.items():\n",
    "        category_cosine_means[key] = np.mean(value)\n",
    "\n",
    "    return category_cosine_means"
   ]
  },
  {
   "cell_type": "markdown",
   "metadata": {
    "colab_type": "text",
    "id": "Y2WoipZL90c2"
   },
   "source": [
    "## 카테고리 내부 유사도 평균"
   ]
  },
  {
   "cell_type": "code",
   "execution_count": null,
   "metadata": {
    "colab": {
     "base_uri": "https://localhost:8080/",
     "height": 1000
    },
    "colab_type": "code",
    "id": "HrbqI1uPgy6M",
    "outputId": "09e1b126-71e0-4b35-9de8-9cbe7147bcfc"
   },
   "outputs": [
    {
     "data": {
      "text/plain": [
       "{'0': 0.8804551,\n",
       " '1': 0.79425526,\n",
       " '10': 0.8931132,\n",
       " '11': 0.83618253,\n",
       " '12': 0.8626297,\n",
       " '13': 0.8588592,\n",
       " '14': 0.81243634,\n",
       " '15': 0.8598615,\n",
       " '16': 0.8684837,\n",
       " '17': 0.8546861,\n",
       " '18': 0.86800337,\n",
       " '19': 0.9325699,\n",
       " '2': 0.7979257,\n",
       " '20': 0.88121784,\n",
       " '21': 0.9068284,\n",
       " '22': 0.8738793,\n",
       " '23': 0.92245334,\n",
       " '24': 0.89520407,\n",
       " '25': 0.8679233,\n",
       " '26': 0.9055387,\n",
       " '27': 0.85302216,\n",
       " '28': 0.8722421,\n",
       " '29': 0.7616308,\n",
       " '3': 0.85359824,\n",
       " '30': 0.87761414,\n",
       " '31': 0.7187521,\n",
       " '32': 0.78913707,\n",
       " '33': 0.8247333,\n",
       " '34': 0.91448194,\n",
       " '35': 0.75482196,\n",
       " '36': 0.79624707,\n",
       " '37': 0.8492677,\n",
       " '38': 0.87375104,\n",
       " '39': 0.7701811,\n",
       " '4': 0.7924588,\n",
       " '40': 0.8306413,\n",
       " '41': 0.8267289,\n",
       " '42': 0.8538949,\n",
       " '43': 0.8380264,\n",
       " '44': 0.80225945,\n",
       " '45': 0.7547371,\n",
       " '46': 0.78742915,\n",
       " '47': 0.81521183,\n",
       " '48': 0.7976857,\n",
       " '49': 0.8735412,\n",
       " '5': 0.93255174,\n",
       " '50': 0.8191592,\n",
       " '51': 0.9002868,\n",
       " '52': 0.86935407,\n",
       " '53': 0.8448107,\n",
       " '54': 0.85331935,\n",
       " '55': 0.84722996,\n",
       " '56': 0.7428603,\n",
       " '57': 0.71241856,\n",
       " '58': 0.73501676,\n",
       " '59': 0.77311885,\n",
       " '6': 0.7720096,\n",
       " '60': 0.89558923,\n",
       " '61': 0.7543216,\n",
       " '62': 0.88341206,\n",
       " '63': 0.7666785,\n",
       " '64': 0.8953974,\n",
       " '65': 0.84674734,\n",
       " '66': 0.9026352,\n",
       " '67': 0.80777186,\n",
       " '68': 0.7946669,\n",
       " '69': 0.789162,\n",
       " '7': 0.9037084,\n",
       " '70': 0.7915171,\n",
       " '71': 0.831962,\n",
       " '72': 0.8762723,\n",
       " '73': 0.86724347,\n",
       " '74': 0.9464882,\n",
       " '75': 0.8795957,\n",
       " '76': 0.78389233,\n",
       " '77': 0.8614248,\n",
       " '78': 0.8133974,\n",
       " '79': 0.9094838,\n",
       " '8': 0.7422442,\n",
       " '80': 0.8922642,\n",
       " '81': 0.7793853,\n",
       " '82': 0.85920614,\n",
       " '83': 0.8615135,\n",
       " '84': 0.88370556,\n",
       " '85': 0.8591432,\n",
       " '86': 0.80660814,\n",
       " '87': 0.91070926,\n",
       " '88': 0.9251969,\n",
       " '89': 0.8610947,\n",
       " '9': 0.9001863,\n",
       " '90': 0.82909596}"
      ]
     },
     "execution_count": 10,
     "metadata": {
      "tags": []
     },
     "output_type": "execute_result"
    }
   ],
   "source": [
    "inner_consine_means = inner_cosine_means(inner_cosine_sim)\n",
    "inner_consine_means"
   ]
  },
  {
   "cell_type": "markdown",
   "metadata": {
    "colab_type": "text",
    "id": "iqhojHsCxena"
   },
   "source": [
    "## 모든 카테고리의 정규성 검정하기"
   ]
  },
  {
   "cell_type": "code",
   "execution_count": null,
   "metadata": {
    "colab": {
     "base_uri": "https://localhost:8080/",
     "height": 52
    },
    "colab_type": "code",
    "id": "DrpSJoOtAkU3",
    "outputId": "e53d12c9-b082-40b3-d12e-bc11bece8e51"
   },
   "outputs": [
    {
     "name": "stderr",
     "output_type": "stream",
     "text": [
      "/usr/local/lib/python3.6/dist-packages/scipy/stats/morestats.py:1676: UserWarning: p-value may not be accurate for N > 5000.\n",
      "  warnings.warn(\"p-value may not be accurate for N > 5000.\")\n"
     ]
    }
   ],
   "source": [
    "category_nomality = []\n",
    "for category, cosine_sims in inner_cosine_sim.items():\n",
    "    normality, p = normal(cosine_sims)\n",
    "    category_nomality.append(normality)\n",
    "category_nomality = np.array(category_nomality)"
   ]
  },
  {
   "cell_type": "code",
   "execution_count": null,
   "metadata": {
    "colab": {
     "base_uri": "https://localhost:8080/",
     "height": 122
    },
    "colab_type": "code",
    "id": "RfZFvSn2WbLd",
    "outputId": "e27b2019-08c0-45e4-89a3-c2eeea1f9943"
   },
   "outputs": [
    {
     "data": {
      "text/plain": [
       "(array([ 0,  1,  2,  3,  4,  5,  6,  7,  8,  9, 10, 11, 12, 13, 14, 15, 16,\n",
       "        17, 18, 19, 20, 21, 22, 23, 24, 25, 26, 27, 28, 29, 30, 31, 32, 33,\n",
       "        34, 35, 36, 37, 38, 39, 40, 41, 42, 43, 44, 45, 46, 47, 48, 49, 50,\n",
       "        51, 52, 53, 54, 55, 56, 57, 58, 59, 60, 61, 62, 63, 64, 65, 66, 67,\n",
       "        68, 69, 70, 71, 72, 73, 74, 75, 76, 77, 78, 79, 80, 81, 82, 83, 84,\n",
       "        85, 86, 87, 88, 89, 90]),)"
      ]
     },
     "execution_count": 12,
     "metadata": {
      "tags": []
     },
     "output_type": "execute_result"
    }
   ],
   "source": [
    "normal_category = np.where(category_nomality == 1)\n",
    "normal_category"
   ]
  },
  {
   "cell_type": "code",
   "execution_count": null,
   "metadata": {
    "colab": {
     "base_uri": "https://localhost:8080/",
     "height": 34
    },
    "colab_type": "code",
    "id": "9qpApqpdaaI5",
    "outputId": "8850db2c-55a3-44bd-8f4b-4d4ad9c14b32"
   },
   "outputs": [
    {
     "data": {
      "text/plain": [
       "(array([], dtype=int64),)"
      ]
     },
     "execution_count": 13,
     "metadata": {
      "tags": []
     },
     "output_type": "execute_result"
    }
   ],
   "source": [
    "non_normal_category = np.where(category_nomality == 0)\n",
    "non_normal_category"
   ]
  },
  {
   "cell_type": "markdown",
   "metadata": {
    "colab_type": "text",
    "id": "zFKZctH6XSyv"
   },
   "source": [
    "## 카테고리 간 평균 차이 검정"
   ]
  },
  {
   "cell_type": "code",
   "execution_count": null,
   "metadata": {
    "colab": {
     "base_uri": "https://localhost:8080/",
     "height": 122
    },
    "colab_type": "code",
    "id": "5a5x1V7zH6vh",
    "outputId": "8b9e8039-ec51-426c-d7be-8e28714197a0"
   },
   "outputs": [
    {
     "data": {
      "text/plain": [
       "array([ 0,  1,  2,  3,  4,  5,  6,  7,  8,  9, 10, 11, 12, 13, 14, 15, 16,\n",
       "       17, 18, 19, 20, 21, 22, 23, 24, 25, 26, 27, 28, 29, 30, 31, 32, 33,\n",
       "       34, 35, 36, 37, 38, 39, 40, 41, 42, 43, 44, 45, 46, 47, 48, 49, 50,\n",
       "       51, 52, 53, 54, 55, 56, 57, 58, 59, 60, 61, 62, 63, 64, 65, 66, 67,\n",
       "       68, 69, 70, 71, 72, 73, 74, 75, 76, 77, 78, 79, 80, 81, 82, 83, 84,\n",
       "       85, 86, 87, 88, 89, 90])"
      ]
     },
     "execution_count": 8,
     "metadata": {
      "tags": []
     },
     "output_type": "execute_result"
    }
   ],
   "source": [
    "category = np.array(range(0,91))\n",
    "category"
   ]
  },
  {
   "cell_type": "code",
   "execution_count": null,
   "metadata": {
    "colab": {},
    "colab_type": "code",
    "id": "p1txCh6WamNX"
   },
   "outputs": [],
   "source": [
    "# 두 그룹 간 평균 t 검정 (정규성 만족할 경우)\n",
    "category = np.array(range(0,91))\n",
    "\n",
    "similarity_matrix = cosine_similarity(validation_matrix)\n",
    "\n",
    "mean_test = {} # I그룹 내부 코사인 유사도 vs i그룹 - j그룹 코사인 유사도 평균 검정 \n",
    "standard_category = 1\n",
    "for i in category:\n",
    "    for j in category[standard_category:]:\n",
    "        # 동분산 테스트\n",
    "        group_i = similarity_matrix[111*i:111*(i+1),111*i:111*(i+1)].reshape((12321,)) # 1 ㅇ\n",
    "        group_j = similarity_matrix[111*i:111*(i+1),111*j:111*(j+1)].reshape((12321,))\n",
    "        homo, p = homogenity(group_i, group_j)\n",
    "\n",
    "        compare_group_label = str(i) + \"_\" + str(j)\n",
    "        mean_test[compare_group_label] = [t_test(group_i, group_j, homo)]\n",
    "\n",
    "    standard_category += 1"
   ]
  },
  {
   "cell_type": "code",
   "execution_count": null,
   "metadata": {
    "colab": {
     "base_uri": "https://localhost:8080/",
     "height": 34
    },
    "colab_type": "code",
    "id": "5u1Ct025X0K9",
    "outputId": "cf5b17ca-0dd7-447d-e1e3-5fa30fb44f48"
   },
   "outputs": [
    {
     "data": {
      "text/plain": [
       "4095"
      ]
     },
     "execution_count": 16,
     "metadata": {
      "tags": []
     },
     "output_type": "execute_result"
    }
   ],
   "source": [
    "len(list(mean_test.keys()))"
   ]
  },
  {
   "cell_type": "code",
   "execution_count": null,
   "metadata": {
    "colab": {
     "base_uri": "https://localhost:8080/",
     "height": 34
    },
    "colab_type": "code",
    "id": "OwhZ6Jb_KZCa",
    "outputId": "70545920-84ef-4788-a509-16d851251113"
   },
   "outputs": [
    {
     "name": "stdout",
     "output_type": "stream",
     "text": [
      "done\n"
     ]
    }
   ],
   "source": [
    "# 임의의 두 카테고리 간 평균 차이가 없는 경우 검사\n",
    "for key, value in mean_test.items():\n",
    "    d = value[0][0]\n",
    "    p = value[0][1]\n",
    "    if d == 0:\n",
    "        print(key, \"are significantly same\")\n",
    "print(\"done\")"
   ]
  },
  {
   "cell_type": "markdown",
   "metadata": {
    "colab_type": "text",
    "id": "U1InaLp_Vwt1"
   },
   "source": [
    "# Inner vs Outer similarity 평균 차이"
   ]
  },
  {
   "cell_type": "markdown",
   "metadata": {
    "colab_type": "text",
    "id": "5qK3iHeyZD_N"
   },
   "source": [
    "## 각 집단 정리하기"
   ]
  },
  {
   "cell_type": "code",
   "execution_count": null,
   "metadata": {
    "colab": {
     "base_uri": "https://localhost:8080/",
     "height": 34
    },
    "colab_type": "code",
    "id": "e_JOyxFn2957",
    "outputId": "67fe5603-f3e5-4fb8-e4f7-5b673407f745"
   },
   "outputs": [
    {
     "data": {
      "text/plain": [
       "(10101, 2048)"
      ]
     },
     "execution_count": 18,
     "metadata": {
      "tags": []
     },
     "output_type": "execute_result"
    }
   ],
   "source": [
    "validation_matrix.shape"
   ]
  },
  {
   "cell_type": "code",
   "execution_count": null,
   "metadata": {
    "colab": {},
    "colab_type": "code",
    "id": "flOP7XB1XaB3"
   },
   "outputs": [],
   "source": [
    "# 코사인 유사도\n",
    "similarity_matrix = cosine_similarity(validation_matrix)"
   ]
  },
  {
   "cell_type": "code",
   "execution_count": null,
   "metadata": {
    "colab": {
     "base_uri": "https://localhost:8080/",
     "height": 34
    },
    "colab_type": "code",
    "id": "C4F5wVw49pMh",
    "outputId": "81ef12df-5481-4275-af1f-ce7dc87da400"
   },
   "outputs": [
    {
     "data": {
      "text/plain": [
       "(10101, 10101)"
      ]
     },
     "execution_count": 6,
     "metadata": {
      "tags": []
     },
     "output_type": "execute_result"
    }
   ],
   "source": [
    "similarity_matrix.shape"
   ]
  },
  {
   "cell_type": "code",
   "execution_count": null,
   "metadata": {
    "colab": {
     "base_uri": "https://localhost:8080/",
     "height": 122
    },
    "colab_type": "code",
    "id": "j8KCDK-r-h9U",
    "outputId": "5b092aa0-1d57-4d05-90e7-1435392e7a58"
   },
   "outputs": [
    {
     "data": {
      "text/plain": [
       "array([ 0,  1,  2,  3,  4,  5,  6,  7,  8,  9, 10, 11, 12, 13, 14, 15, 16,\n",
       "       17, 18, 19, 20, 21, 22, 23, 24, 25, 26, 27, 28, 29, 30, 31, 32, 33,\n",
       "       34, 35, 36, 37, 38, 39, 40, 41, 42, 43, 44, 45, 46, 47, 48, 49, 50,\n",
       "       51, 52, 53, 54, 55, 56, 57, 58, 59, 60, 61, 62, 63, 64, 65, 66, 67,\n",
       "       68, 69, 70, 71, 72, 73, 74, 75, 76, 77, 78, 79, 80, 81, 82, 83, 84,\n",
       "       85, 86, 87, 88, 89, 90])"
      ]
     },
     "execution_count": 9,
     "metadata": {
      "tags": []
     },
     "output_type": "execute_result"
    }
   ],
   "source": [
    "category"
   ]
  },
  {
   "cell_type": "code",
   "execution_count": null,
   "metadata": {
    "colab": {},
    "colab_type": "code",
    "id": "6vFvaaW_XxrT"
   },
   "outputs": [],
   "source": [
    "# 그룹 내외 유사도\n",
    "\n",
    "category = category\n",
    "inner_outer = {}\n",
    "\n",
    "for i in category:\n",
    "    key = str(i)\n",
    "    \n",
    "    first = 111*i\n",
    "    last = 111*(i+1)\n",
    "    # i 번째 카테고리\n",
    "    similarity_matrix_i = similarity_matrix[first:last,first:last]\n",
    "\n",
    "    inner_value = []\n",
    "    for row in range(0, 111):\n",
    "        for col in range(row+1, 111):\n",
    "            value = similarity_matrix[row][col]\n",
    "            inner_value.append(value)\n",
    "    inner_value = np.array(inner_value)\n",
    "\n",
    "    outer_value = np.concatenate((similarity_matrix[i*111:111*(i+1),:i*111], similarity_matrix[i*111:111*(i+1), (i+1)*111:]), axis = 1)\n",
    "    outer_value = outer_value.reshape(1108890,)\n",
    "    value = [inner_value, outer_value]\n",
    "    inner_outer[key] = value"
   ]
  },
  {
   "cell_type": "code",
   "execution_count": null,
   "metadata": {
    "colab": {
     "base_uri": "https://localhost:8080/",
     "height": 34
    },
    "colab_type": "code",
    "id": "vHclHolvJ5eq",
    "outputId": "1c9dcc1c-b881-4756-bd22-98c00f644dc4"
   },
   "outputs": [
    {
     "data": {
      "text/plain": [
       "1108890"
      ]
     },
     "execution_count": 11,
     "metadata": {
      "tags": []
     },
     "output_type": "execute_result"
    }
   ],
   "source": [
    "len(inner_outer[\"0\"][1])"
   ]
  },
  {
   "cell_type": "code",
   "execution_count": null,
   "metadata": {
    "colab": {},
    "colab_type": "code",
    "id": "ICLsMR6a_BGU"
   },
   "outputs": [],
   "source": [
    "inner_outer_means = {}\n",
    "for key, values in inner_outer.items():\n",
    "    inner_values = values[0]\n",
    "    outer_values = values[1]\n",
    "\n",
    "    inner_values_mean = round(np.mean(inner_values), 4)\n",
    "    outer_values_mean = round(np.mean(outer_values), 4)\n",
    "\n",
    "    inner_outer[key] = [inner_values_mean, outer_values_mean]"
   ]
  },
  {
   "cell_type": "code",
   "execution_count": null,
   "metadata": {
    "colab": {
     "base_uri": "https://localhost:8080/",
     "height": 1000
    },
    "colab_type": "code",
    "id": "OGhhkuSL_aKJ",
    "outputId": "a05736cc-0dbe-4003-b9f3-e3bdc269cf0d"
   },
   "outputs": [
    {
     "data": {
      "text/plain": [
       "{'0': [0.9863, 0.9747],\n",
       " '1': [0.9642, 0.9658],\n",
       " '10': [0.9954, 0.9628],\n",
       " '11': [0.9815, 0.9731],\n",
       " '12': [0.9868, 0.9791],\n",
       " '13': [0.9894, 0.9792],\n",
       " '14': [0.963, 0.9655],\n",
       " '15': [0.9871, 0.9777],\n",
       " '16': [0.9872, 0.9788],\n",
       " '17': [0.9798, 0.9755],\n",
       " '18': [0.9831, 0.9773],\n",
       " '19': [0.9863, 0.9757],\n",
       " '2': [0.9797, 0.9746],\n",
       " '20': [0.9835, 0.9633],\n",
       " '21': [0.9871, 0.9665],\n",
       " '22': [0.9859, 0.9787],\n",
       " '23': [0.9852, 0.9714],\n",
       " '24': [0.9845, 0.9757],\n",
       " '25': [0.9785, 0.9679],\n",
       " '26': [0.9888, 0.9728],\n",
       " '27': [0.9865, 0.9784],\n",
       " '28': [0.9831, 0.9742],\n",
       " '29': [0.9815, 0.9763],\n",
       " '3': [0.9792, 0.9753],\n",
       " '30': [0.9877, 0.9759],\n",
       " '31': [0.9774, 0.9721],\n",
       " '32': [0.9835, 0.9772],\n",
       " '33': [0.9798, 0.9758],\n",
       " '34': [0.9879, 0.9789],\n",
       " '35': [0.9786, 0.9749],\n",
       " '36': [0.9771, 0.9743],\n",
       " '37': [0.9833, 0.9758],\n",
       " '38': [0.9882, 0.9794],\n",
       " '39': [0.9795, 0.9707],\n",
       " '4': [0.9827, 0.9773],\n",
       " '40': [0.9842, 0.9756],\n",
       " '41': [0.9813, 0.9747],\n",
       " '42': [0.9863, 0.9788],\n",
       " '43': [0.9805, 0.9749],\n",
       " '44': [0.9804, 0.9729],\n",
       " '45': [0.981, 0.9721],\n",
       " '46': [0.9882, 0.9768],\n",
       " '47': [0.9786, 0.9747],\n",
       " '48': [0.9843, 0.973],\n",
       " '49': [0.977, 0.9698],\n",
       " '5': [0.9858, 0.9771],\n",
       " '50': [0.9841, 0.969],\n",
       " '51': [0.9908, 0.9809],\n",
       " '52': [0.9821, 0.9646],\n",
       " '53': [0.9828, 0.9766],\n",
       " '54': [0.9844, 0.9725],\n",
       " '55': [0.9812, 0.9767],\n",
       " '56': [0.9744, 0.9694],\n",
       " '57': [0.979, 0.9717],\n",
       " '58': [0.9797, 0.9742],\n",
       " '59': [0.9836, 0.9702],\n",
       " '6': [0.9758, 0.9739],\n",
       " '60': [0.9889, 0.9782],\n",
       " '61': [0.9783, 0.9744],\n",
       " '62': [0.989, 0.9767],\n",
       " '63': [0.9671, 0.969],\n",
       " '64': [0.9873, 0.9775],\n",
       " '65': [0.9913, 0.9761],\n",
       " '66': [0.9682, 0.9664],\n",
       " '67': [0.9793, 0.9731],\n",
       " '68': [0.9765, 0.9745],\n",
       " '69': [0.9736, 0.972],\n",
       " '7': [0.9833, 0.9769],\n",
       " '70': [0.9832, 0.975],\n",
       " '71': [0.9806, 0.9762],\n",
       " '72': [0.9814, 0.9753],\n",
       " '73': [0.9707, 0.9601],\n",
       " '74': [0.9709, 0.9657],\n",
       " '75': [0.9664, 0.9667],\n",
       " '76': [0.9579, 0.9612],\n",
       " '77': [0.9867, 0.9766],\n",
       " '78': [0.9681, 0.9686],\n",
       " '79': [0.9833, 0.9665],\n",
       " '8': [0.9635, 0.9617],\n",
       " '80': [0.9925, 0.9769],\n",
       " '81': [0.9792, 0.9735],\n",
       " '82': [0.9867, 0.9727],\n",
       " '83': [0.9755, 0.9699],\n",
       " '84': [0.979, 0.9742],\n",
       " '85': [0.9841, 0.9564],\n",
       " '86': [0.9835, 0.9762],\n",
       " '87': [0.9859, 0.977],\n",
       " '88': [0.9665, 0.966],\n",
       " '89': [0.975, 0.97],\n",
       " '9': [0.9843, 0.9738],\n",
       " '90': [0.9942, 0.9762]}"
      ]
     },
     "execution_count": 13,
     "metadata": {
      "tags": []
     },
     "output_type": "execute_result"
    }
   ],
   "source": [
    "inner_outer_means"
   ]
  },
  {
   "cell_type": "code",
   "execution_count": null,
   "metadata": {
    "colab": {
     "base_uri": "https://localhost:8080/",
     "height": 155
    },
    "colab_type": "code",
    "id": "GyBUB60N_1Yf",
    "outputId": "fe7bfbff-f4f6-4e09-e19e-b9ebfc378e1d"
   },
   "outputs": [
    {
     "data": {
      "text/html": [
       "<div>\n",
       "<style scoped>\n",
       "    .dataframe tbody tr th:only-of-type {\n",
       "        vertical-align: middle;\n",
       "    }\n",
       "\n",
       "    .dataframe tbody tr th {\n",
       "        vertical-align: top;\n",
       "    }\n",
       "\n",
       "    .dataframe thead th {\n",
       "        text-align: right;\n",
       "    }\n",
       "</style>\n",
       "<table border=\"1\" class=\"dataframe\">\n",
       "  <thead>\n",
       "    <tr style=\"text-align: right;\">\n",
       "      <th></th>\n",
       "      <th>0</th>\n",
       "      <th>1</th>\n",
       "      <th>2</th>\n",
       "      <th>3</th>\n",
       "      <th>4</th>\n",
       "      <th>5</th>\n",
       "      <th>6</th>\n",
       "      <th>7</th>\n",
       "      <th>8</th>\n",
       "      <th>9</th>\n",
       "      <th>10</th>\n",
       "      <th>11</th>\n",
       "      <th>12</th>\n",
       "      <th>13</th>\n",
       "      <th>14</th>\n",
       "      <th>15</th>\n",
       "      <th>16</th>\n",
       "      <th>17</th>\n",
       "      <th>18</th>\n",
       "      <th>19</th>\n",
       "      <th>20</th>\n",
       "      <th>21</th>\n",
       "      <th>22</th>\n",
       "      <th>23</th>\n",
       "      <th>24</th>\n",
       "      <th>25</th>\n",
       "      <th>26</th>\n",
       "      <th>27</th>\n",
       "      <th>28</th>\n",
       "      <th>29</th>\n",
       "      <th>30</th>\n",
       "      <th>31</th>\n",
       "      <th>32</th>\n",
       "      <th>33</th>\n",
       "      <th>34</th>\n",
       "      <th>35</th>\n",
       "      <th>36</th>\n",
       "      <th>37</th>\n",
       "      <th>38</th>\n",
       "      <th>39</th>\n",
       "      <th>...</th>\n",
       "      <th>51</th>\n",
       "      <th>52</th>\n",
       "      <th>53</th>\n",
       "      <th>54</th>\n",
       "      <th>55</th>\n",
       "      <th>56</th>\n",
       "      <th>57</th>\n",
       "      <th>58</th>\n",
       "      <th>59</th>\n",
       "      <th>60</th>\n",
       "      <th>61</th>\n",
       "      <th>62</th>\n",
       "      <th>63</th>\n",
       "      <th>64</th>\n",
       "      <th>65</th>\n",
       "      <th>66</th>\n",
       "      <th>67</th>\n",
       "      <th>68</th>\n",
       "      <th>69</th>\n",
       "      <th>70</th>\n",
       "      <th>71</th>\n",
       "      <th>72</th>\n",
       "      <th>73</th>\n",
       "      <th>74</th>\n",
       "      <th>75</th>\n",
       "      <th>76</th>\n",
       "      <th>77</th>\n",
       "      <th>78</th>\n",
       "      <th>79</th>\n",
       "      <th>80</th>\n",
       "      <th>81</th>\n",
       "      <th>82</th>\n",
       "      <th>83</th>\n",
       "      <th>84</th>\n",
       "      <th>85</th>\n",
       "      <th>86</th>\n",
       "      <th>87</th>\n",
       "      <th>88</th>\n",
       "      <th>89</th>\n",
       "      <th>90</th>\n",
       "    </tr>\n",
       "  </thead>\n",
       "  <tbody>\n",
       "    <tr>\n",
       "      <th>inner_similarity</th>\n",
       "      <td>0.9863</td>\n",
       "      <td>0.9642</td>\n",
       "      <td>0.9797</td>\n",
       "      <td>0.9792</td>\n",
       "      <td>0.9827</td>\n",
       "      <td>0.9858</td>\n",
       "      <td>0.9758</td>\n",
       "      <td>0.9833</td>\n",
       "      <td>0.9635</td>\n",
       "      <td>0.9843</td>\n",
       "      <td>0.9954</td>\n",
       "      <td>0.9815</td>\n",
       "      <td>0.9868</td>\n",
       "      <td>0.9894</td>\n",
       "      <td>0.9630</td>\n",
       "      <td>0.9871</td>\n",
       "      <td>0.9872</td>\n",
       "      <td>0.9798</td>\n",
       "      <td>0.9831</td>\n",
       "      <td>0.9863</td>\n",
       "      <td>0.9835</td>\n",
       "      <td>0.9871</td>\n",
       "      <td>0.9859</td>\n",
       "      <td>0.9852</td>\n",
       "      <td>0.9845</td>\n",
       "      <td>0.9785</td>\n",
       "      <td>0.9888</td>\n",
       "      <td>0.9865</td>\n",
       "      <td>0.9831</td>\n",
       "      <td>0.9815</td>\n",
       "      <td>0.9877</td>\n",
       "      <td>0.9774</td>\n",
       "      <td>0.9835</td>\n",
       "      <td>0.9798</td>\n",
       "      <td>0.9879</td>\n",
       "      <td>0.9786</td>\n",
       "      <td>0.9771</td>\n",
       "      <td>0.9833</td>\n",
       "      <td>0.9882</td>\n",
       "      <td>0.9795</td>\n",
       "      <td>...</td>\n",
       "      <td>0.9908</td>\n",
       "      <td>0.9821</td>\n",
       "      <td>0.9828</td>\n",
       "      <td>0.9844</td>\n",
       "      <td>0.9812</td>\n",
       "      <td>0.9744</td>\n",
       "      <td>0.9790</td>\n",
       "      <td>0.9797</td>\n",
       "      <td>0.9836</td>\n",
       "      <td>0.9889</td>\n",
       "      <td>0.9783</td>\n",
       "      <td>0.9890</td>\n",
       "      <td>0.9671</td>\n",
       "      <td>0.9873</td>\n",
       "      <td>0.9913</td>\n",
       "      <td>0.9682</td>\n",
       "      <td>0.9793</td>\n",
       "      <td>0.9765</td>\n",
       "      <td>0.9736</td>\n",
       "      <td>0.9832</td>\n",
       "      <td>0.9806</td>\n",
       "      <td>0.9814</td>\n",
       "      <td>0.9707</td>\n",
       "      <td>0.9709</td>\n",
       "      <td>0.9664</td>\n",
       "      <td>0.9579</td>\n",
       "      <td>0.9867</td>\n",
       "      <td>0.9681</td>\n",
       "      <td>0.9833</td>\n",
       "      <td>0.9925</td>\n",
       "      <td>0.9792</td>\n",
       "      <td>0.9867</td>\n",
       "      <td>0.9755</td>\n",
       "      <td>0.9790</td>\n",
       "      <td>0.9841</td>\n",
       "      <td>0.9835</td>\n",
       "      <td>0.9859</td>\n",
       "      <td>0.9665</td>\n",
       "      <td>0.975</td>\n",
       "      <td>0.9942</td>\n",
       "    </tr>\n",
       "    <tr>\n",
       "      <th>outer_similarity</th>\n",
       "      <td>0.9747</td>\n",
       "      <td>0.9658</td>\n",
       "      <td>0.9746</td>\n",
       "      <td>0.9753</td>\n",
       "      <td>0.9773</td>\n",
       "      <td>0.9771</td>\n",
       "      <td>0.9739</td>\n",
       "      <td>0.9769</td>\n",
       "      <td>0.9617</td>\n",
       "      <td>0.9738</td>\n",
       "      <td>0.9628</td>\n",
       "      <td>0.9731</td>\n",
       "      <td>0.9791</td>\n",
       "      <td>0.9792</td>\n",
       "      <td>0.9655</td>\n",
       "      <td>0.9777</td>\n",
       "      <td>0.9788</td>\n",
       "      <td>0.9755</td>\n",
       "      <td>0.9773</td>\n",
       "      <td>0.9757</td>\n",
       "      <td>0.9633</td>\n",
       "      <td>0.9665</td>\n",
       "      <td>0.9787</td>\n",
       "      <td>0.9714</td>\n",
       "      <td>0.9757</td>\n",
       "      <td>0.9679</td>\n",
       "      <td>0.9728</td>\n",
       "      <td>0.9784</td>\n",
       "      <td>0.9742</td>\n",
       "      <td>0.9763</td>\n",
       "      <td>0.9759</td>\n",
       "      <td>0.9721</td>\n",
       "      <td>0.9772</td>\n",
       "      <td>0.9758</td>\n",
       "      <td>0.9789</td>\n",
       "      <td>0.9749</td>\n",
       "      <td>0.9743</td>\n",
       "      <td>0.9758</td>\n",
       "      <td>0.9794</td>\n",
       "      <td>0.9707</td>\n",
       "      <td>...</td>\n",
       "      <td>0.9809</td>\n",
       "      <td>0.9646</td>\n",
       "      <td>0.9766</td>\n",
       "      <td>0.9725</td>\n",
       "      <td>0.9767</td>\n",
       "      <td>0.9694</td>\n",
       "      <td>0.9717</td>\n",
       "      <td>0.9742</td>\n",
       "      <td>0.9702</td>\n",
       "      <td>0.9782</td>\n",
       "      <td>0.9744</td>\n",
       "      <td>0.9767</td>\n",
       "      <td>0.9690</td>\n",
       "      <td>0.9775</td>\n",
       "      <td>0.9761</td>\n",
       "      <td>0.9664</td>\n",
       "      <td>0.9731</td>\n",
       "      <td>0.9745</td>\n",
       "      <td>0.9720</td>\n",
       "      <td>0.9750</td>\n",
       "      <td>0.9762</td>\n",
       "      <td>0.9753</td>\n",
       "      <td>0.9601</td>\n",
       "      <td>0.9657</td>\n",
       "      <td>0.9667</td>\n",
       "      <td>0.9612</td>\n",
       "      <td>0.9766</td>\n",
       "      <td>0.9686</td>\n",
       "      <td>0.9665</td>\n",
       "      <td>0.9769</td>\n",
       "      <td>0.9735</td>\n",
       "      <td>0.9727</td>\n",
       "      <td>0.9699</td>\n",
       "      <td>0.9742</td>\n",
       "      <td>0.9564</td>\n",
       "      <td>0.9762</td>\n",
       "      <td>0.9770</td>\n",
       "      <td>0.9660</td>\n",
       "      <td>0.970</td>\n",
       "      <td>0.9762</td>\n",
       "    </tr>\n",
       "  </tbody>\n",
       "</table>\n",
       "<p>2 rows × 91 columns</p>\n",
       "</div>"
      ],
      "text/plain": [
       "                       0       1       2       3  ...      87      88     89      90\n",
       "inner_similarity  0.9863  0.9642  0.9797  0.9792  ...  0.9859  0.9665  0.975  0.9942\n",
       "outer_similarity  0.9747  0.9658  0.9746  0.9753  ...  0.9770  0.9660  0.970  0.9762\n",
       "\n",
       "[2 rows x 91 columns]"
      ]
     },
     "execution_count": 14,
     "metadata": {
      "tags": []
     },
     "output_type": "execute_result"
    }
   ],
   "source": [
    "df = pd.DataFrame(inner_outer_means_group, (\"inner_similarity\",\"outer_similarity\"))\n",
    "df"
   ]
  },
  {
   "cell_type": "code",
   "execution_count": null,
   "metadata": {
    "colab": {},
    "colab_type": "code",
    "id": "iLz_LaZ__4co"
   },
   "outputs": [],
   "source": [
    "df.to_csv('/content/drive/My Drive/Colab Notebooks/inner_outer_similarity_resnet.csv')"
   ]
  },
  {
   "cell_type": "code",
   "execution_count": null,
   "metadata": {
    "colab": {
     "base_uri": "https://localhost:8080/",
     "height": 34
    },
    "colab_type": "code",
    "id": "qrcnPTrUytYY",
    "outputId": "bac17dbe-cfe3-47ff-eafc-1e5885151540"
   },
   "outputs": [
    {
     "name": "stdout",
     "output_type": "stream",
     "text": [
      "0번 카테고리 Ttest_indResult(statistic=430.66657535845127, pvalue=0.0)\n"
     ]
    }
   ],
   "source": [
    "values = inner_outer_group[\"0\"]\n",
    "inner_group = values[0]\n",
    "outer_group = values[1]\n",
    "homo, p = homogenity(inner_group, outer_group)\n",
    "homo = (homo == 1)\n",
    "\n",
    "print(\"0번 카테고리\", ttest_ind(inner_group, outer_group, equal_var = homo))"
   ]
  },
  {
   "cell_type": "code",
   "execution_count": null,
   "metadata": {
    "colab": {},
    "colab_type": "code",
    "id": "YonwUgIf6htR"
   },
   "outputs": [],
   "source": [
    "# 두 그룹 간 평균 t 검정 (정규성 만족할 경우)\n",
    "mean_test = {} # I그룹 내부 코사인 유사도 vs i그룹 - j그룹 코사인 유사도 평균 검정 \n",
    "\n",
    "i = 0\n",
    "for values in inner_outer_group.values():\n",
    "    # 동분산 테스트\n",
    "    inner_group = values[0]\n",
    "    outer_group = values[1]\n",
    "    homo, p = homogenity(inner_group, outer_group)\n",
    "\n",
    "    group_label = str(i)\n",
    "    mean_test[group_label] = [t_test(inner_group, outer_group, homo)]\n",
    "    \n",
    "    i += 1"
   ]
  },
  {
   "cell_type": "code",
   "execution_count": null,
   "metadata": {
    "colab": {
     "base_uri": "https://localhost:8080/",
     "height": 1000
    },
    "colab_type": "code",
    "id": "N_LUEh4D7ZHd",
    "outputId": "522224d7-07fe-45ea-def0-a6766276f48d",
    "scrolled": true
   },
   "outputs": [
    {
     "data": {
      "text/plain": [
       "{'0': [(1, 0.0)],\n",
       " '1': [(1, 4.477146248425894e-07)],\n",
       " '10': [(1, 0.0)],\n",
       " '11': [(1, 6.954201063653806e-211)],\n",
       " '12': [(1, 0.0)],\n",
       " '13': [(1, 0.0)],\n",
       " '14': [(1, 2.488179414519797e-16)],\n",
       " '15': [(1, 0.0)],\n",
       " '16': [(1, 0.0)],\n",
       " '17': [(1, 3.303457563548069e-79)],\n",
       " '18': [(1, 9.150883786464795e-173)],\n",
       " '19': [(1, 0.0)],\n",
       " '2': [(1, 3.6177252262861795e-104)],\n",
       " '20': [(1, 0.0)],\n",
       " '21': [(1, 0.0)],\n",
       " '22': [(1, 1.722281569739976e-281)],\n",
       " '23': [(1, 0.0)],\n",
       " '24': [(1, 0.0)],\n",
       " '25': [(1, 0.0)],\n",
       " '26': [(1, 0.0)],\n",
       " '27': [(1, 0.0)],\n",
       " '28': [(1, 3.0161463012116865e-262)],\n",
       " '29': [(1, 7.055175925558563e-101)],\n",
       " '3': [(1, 5.738455979051018e-67)],\n",
       " '30': [(1, 0.0)],\n",
       " '31': [(1, 1.6516938617665788e-77)],\n",
       " '32': [(1, 2.2167116823485102e-173)],\n",
       " '33': [(1, 1.984885649789147e-73)],\n",
       " '34': [(1, 0.0)],\n",
       " '35': [(1, 7.595050409244989e-54)],\n",
       " '36': [(1, 3.0921003446251115e-28)],\n",
       " '37': [(1, 5.5900607841418196e-297)],\n",
       " '38': [(1, 0.0)],\n",
       " '39': [(1, 4.282707835060687e-192)],\n",
       " '4': [(1, 2.2757627501638744e-128)],\n",
       " '40': [(1, 0.0)],\n",
       " '41': [(1, 1.5640050927643835e-130)],\n",
       " '42': [(1, 0.0)],\n",
       " '43': [(1, 1.2555375559157273e-126)],\n",
       " '44': [(1, 2.6051871707775756e-153)],\n",
       " '45': [(1, 1.4782487402966661e-208)],\n",
       " '46': [(1, 0.0)],\n",
       " '47': [(1, 2.590876654307081e-57)],\n",
       " '48': [(1, 0.0)],\n",
       " '49': [(1, 2.7740595853525626e-133)],\n",
       " '5': [(1, 2.650362142935364e-306)],\n",
       " '50': [(1, 0.0)],\n",
       " '51': [(1, 0.0)],\n",
       " '52': [(1, 0.0)],\n",
       " '53': [(1, 7.921232015885703e-163)],\n",
       " '54': [(1, 0.0)],\n",
       " '55': [(1, 6.171513364742986e-95)],\n",
       " '56': [(1, 8.942852877614272e-57)],\n",
       " '57': [(1, 1.4515921126471996e-141)],\n",
       " '58': [(1, 4.59287078687515e-94)],\n",
       " '59': [(1, 0.0)],\n",
       " '6': [(1, 4.717365131371859e-16)],\n",
       " '60': [(1, 0.0)],\n",
       " '61': [(1, 2.49481550152449e-56)],\n",
       " '62': [(1, 0.0)],\n",
       " '63': [(1, 3.0983740006179866e-09)],\n",
       " '64': [(1, 0.0)],\n",
       " '65': [(1, 0.0)],\n",
       " '66': [(1, 1.7504318632850884e-07)],\n",
       " '67': [(1, 1.219353331103542e-109)],\n",
       " '68': [(1, 3.504152477037063e-15)],\n",
       " '69': [(1, 1.1749345837537886e-09)],\n",
       " '7': [(1, 6.900816698140867e-209)],\n",
       " '70': [(1, 1.7278171596212485e-224)],\n",
       " '71': [(1, 8.709611429573385e-83)],\n",
       " '72': [(1, 3.4131286966551586e-117)],\n",
       " '73': [(1, 2.2883160353218406e-217)],\n",
       " '74': [(1, 2.3316881721406143e-62)],\n",
       " '75': [(0, 0.18791458471161732)],\n",
       " '76': [(1, 9.662949991573947e-18)],\n",
       " '77': [(1, 0.0)],\n",
       " '78': [(0, 0.09525302027277804)],\n",
       " '79': [(1, 0.0)],\n",
       " '8': [(1, 8.841507015315856e-06)],\n",
       " '80': [(1, 0.0)],\n",
       " '81': [(1, 1.416490359489695e-128)],\n",
       " '82': [(1, 0.0)],\n",
       " '83': [(1, 1.6377902150794144e-74)],\n",
       " '84': [(1, 1.9496745931229443e-76)],\n",
       " '85': [(1, 0.0)],\n",
       " '86': [(1, 6.616955731589567e-299)],\n",
       " '87': [(1, 0.0)],\n",
       " '88': [(0, 0.09466675985128753)],\n",
       " '89': [(1, 6.046842702969528e-60)],\n",
       " '9': [(1, 0.0)],\n",
       " '90': [(1, 0.0)]}"
      ]
     },
     "execution_count": 22,
     "metadata": {
      "tags": []
     },
     "output_type": "execute_result"
    }
   ],
   "source": [
    "mean_test"
   ]
  },
  {
   "cell_type": "code",
   "execution_count": null,
   "metadata": {
    "colab": {
     "base_uri": "https://localhost:8080/",
     "height": 34
    },
    "colab_type": "code",
    "id": "LcqCRjkk7WsM",
    "outputId": "ae3459d3-467a-497a-b6aa-72e446db45fa"
   },
   "outputs": [
    {
     "data": {
      "text/plain": [
       "91"
      ]
     },
     "execution_count": 81,
     "metadata": {
      "tags": []
     },
     "output_type": "execute_result"
    }
   ],
   "source": [
    "len(list(mean_test.keys()))"
   ]
  },
  {
   "cell_type": "markdown",
   "metadata": {
    "colab_type": "text",
    "id": "eWoczTZNHP_z"
   },
   "source": []
  },
  {
   "cell_type": "code",
   "execution_count": null,
   "metadata": {
    "colab": {
     "base_uri": "https://localhost:8080/",
     "height": 34
    },
    "colab_type": "code",
    "id": "TWpJOczwwuRS",
    "outputId": "1d7092ec-b6ba-48ff-9932-36d232f5b5b2"
   },
   "outputs": [
    {
     "data": {
      "text/plain": [
       "(10101, 2048)"
      ]
     },
     "execution_count": 27,
     "metadata": {
      "tags": []
     },
     "output_type": "execute_result"
    }
   ],
   "source": [
    "validation_matrix.shape"
   ]
  },
  {
   "cell_type": "code",
   "execution_count": null,
   "metadata": {
    "colab": {},
    "colab_type": "code",
    "id": "j38bq8hIHSf5"
   },
   "outputs": [],
   "source": [
    "ith_category_matrix = {}\n",
    "for i in range(0,91):\n",
    "    start = i*111\n",
    "    end = (i+1)*111\n",
    "    ith_category_matrix[str(i)] = validation_matrix[start:end]"
   ]
  },
  {
   "cell_type": "code",
   "execution_count": null,
   "metadata": {
    "colab": {
     "base_uri": "https://localhost:8080/",
     "height": 34
    },
    "colab_type": "code",
    "id": "Y0Rk9zR_Hss5",
    "outputId": "8bb6a149-d65a-4b75-e2b9-bd3d2b82d123"
   },
   "outputs": [
    {
     "data": {
      "text/plain": [
       "(111, 2048)"
      ]
     },
     "execution_count": 30,
     "metadata": {
      "tags": []
     },
     "output_type": "execute_result"
    }
   ],
   "source": [
    "ith_category_matrix # value들은 2차원"
   ]
  },
  {
   "cell_type": "code",
   "execution_count": null,
   "metadata": {
    "colab": {
     "base_uri": "https://localhost:8080/",
     "height": 1000
    },
    "colab_type": "code",
    "collapsed": true,
    "id": "pTFGkS3sHsH4",
    "outputId": "c1cd7d9f-001b-4f50-abe9-46cc1ca6d8de"
   },
   "outputs": [
    {
     "name": "stdout",
     "output_type": "stream",
     "text": [
      "39번째 카테고리와 40번째 카테고리의 평균이 다르지 않다.\n",
      "39번째 카테고리와 41번째 카테고리의 평균이 다르지 않다.\n",
      "39번째 카테고리와 42번째 카테고리의 평균이 다르지 않다.\n",
      "39번째 카테고리와 43번째 카테고리의 평균이 다르지 않다.\n",
      "39번째 카테고리와 44번째 카테고리의 평균이 다르지 않다.\n",
      "39번째 카테고리와 45번째 카테고리의 평균이 다르지 않다.\n",
      "39번째 카테고리와 46번째 카테고리의 평균이 다르지 않다.\n",
      "39번째 카테고리와 47번째 카테고리의 평균이 다르지 않다.\n",
      "39번째 카테고리와 48번째 카테고리의 평균이 다르지 않다.\n",
      "39번째 카테고리와 49번째 카테고리의 평균이 다르지 않다.\n",
      "39번째 카테고리와 50번째 카테고리의 평균이 다르지 않다.\n",
      "39번째 카테고리와 51번째 카테고리의 평균이 다르지 않다.\n",
      "39번째 카테고리와 52번째 카테고리의 평균이 다르지 않다.\n",
      "39번째 카테고리와 53번째 카테고리의 평균이 다르지 않다.\n",
      "39번째 카테고리와 54번째 카테고리의 평균이 다르지 않다.\n",
      "39번째 카테고리와 55번째 카테고리의 평균이 다르지 않다.\n",
      "39번째 카테고리와 56번째 카테고리의 평균이 다르지 않다.\n",
      "39번째 카테고리와 57번째 카테고리의 평균이 다르지 않다.\n",
      "39번째 카테고리와 58번째 카테고리의 평균이 다르지 않다.\n",
      "39번째 카테고리와 59번째 카테고리의 평균이 다르지 않다.\n",
      "39번째 카테고리와 60번째 카테고리의 평균이 다르지 않다.\n",
      "39번째 카테고리와 61번째 카테고리의 평균이 다르지 않다.\n",
      "39번째 카테고리와 62번째 카테고리의 평균이 다르지 않다.\n",
      "39번째 카테고리와 63번째 카테고리의 평균이 다르지 않다.\n",
      "39번째 카테고리와 64번째 카테고리의 평균이 다르지 않다.\n",
      "39번째 카테고리와 65번째 카테고리의 평균이 다르지 않다.\n",
      "39번째 카테고리와 66번째 카테고리의 평균이 다르지 않다.\n",
      "39번째 카테고리와 67번째 카테고리의 평균이 다르지 않다.\n",
      "39번째 카테고리와 68번째 카테고리의 평균이 다르지 않다.\n",
      "39번째 카테고리와 69번째 카테고리의 평균이 다르지 않다.\n",
      "39번째 카테고리와 70번째 카테고리의 평균이 다르지 않다.\n",
      "39번째 카테고리와 71번째 카테고리의 평균이 다르지 않다.\n",
      "39번째 카테고리와 72번째 카테고리의 평균이 다르지 않다.\n",
      "39번째 카테고리와 73번째 카테고리의 평균이 다르지 않다.\n",
      "39번째 카테고리와 74번째 카테고리의 평균이 다르지 않다.\n",
      "39번째 카테고리와 75번째 카테고리의 평균이 다르지 않다.\n",
      "39번째 카테고리와 76번째 카테고리의 평균이 다르지 않다.\n",
      "39번째 카테고리와 77번째 카테고리의 평균이 다르지 않다.\n",
      "39번째 카테고리와 78번째 카테고리의 평균이 다르지 않다.\n",
      "39번째 카테고리와 79번째 카테고리의 평균이 다르지 않다.\n",
      "39번째 카테고리와 80번째 카테고리의 평균이 다르지 않다.\n",
      "39번째 카테고리와 81번째 카테고리의 평균이 다르지 않다.\n",
      "39번째 카테고리와 82번째 카테고리의 평균이 다르지 않다.\n",
      "39번째 카테고리와 83번째 카테고리의 평균이 다르지 않다.\n",
      "39번째 카테고리와 84번째 카테고리의 평균이 다르지 않다.\n",
      "39번째 카테고리와 85번째 카테고리의 평균이 다르지 않다.\n",
      "39번째 카테고리와 86번째 카테고리의 평균이 다르지 않다.\n",
      "39번째 카테고리와 87번째 카테고리의 평균이 다르지 않다.\n",
      "39번째 카테고리와 88번째 카테고리의 평균이 다르지 않다.\n",
      "39번째 카테고리와 89번째 카테고리의 평균이 다르지 않다.\n",
      "39번째 카테고리와 90번째 카테고리의 평균이 다르지 않다.\n",
      "40번째 카테고리와 41번째 카테고리의 평균이 다르지 않다.\n",
      "40번째 카테고리와 42번째 카테고리의 평균이 다르지 않다.\n",
      "40번째 카테고리와 43번째 카테고리의 평균이 다르지 않다.\n",
      "40번째 카테고리와 44번째 카테고리의 평균이 다르지 않다.\n",
      "40번째 카테고리와 45번째 카테고리의 평균이 다르지 않다.\n",
      "40번째 카테고리와 46번째 카테고리의 평균이 다르지 않다.\n",
      "40번째 카테고리와 47번째 카테고리의 평균이 다르지 않다.\n",
      "40번째 카테고리와 48번째 카테고리의 평균이 다르지 않다.\n",
      "40번째 카테고리와 49번째 카테고리의 평균이 다르지 않다.\n",
      "40번째 카테고리와 50번째 카테고리의 평균이 다르지 않다.\n",
      "40번째 카테고리와 51번째 카테고리의 평균이 다르지 않다.\n",
      "40번째 카테고리와 52번째 카테고리의 평균이 다르지 않다.\n",
      "40번째 카테고리와 53번째 카테고리의 평균이 다르지 않다.\n",
      "40번째 카테고리와 54번째 카테고리의 평균이 다르지 않다.\n",
      "40번째 카테고리와 55번째 카테고리의 평균이 다르지 않다.\n",
      "40번째 카테고리와 56번째 카테고리의 평균이 다르지 않다.\n",
      "40번째 카테고리와 57번째 카테고리의 평균이 다르지 않다.\n",
      "40번째 카테고리와 58번째 카테고리의 평균이 다르지 않다.\n",
      "40번째 카테고리와 59번째 카테고리의 평균이 다르지 않다.\n",
      "40번째 카테고리와 60번째 카테고리의 평균이 다르지 않다.\n",
      "40번째 카테고리와 61번째 카테고리의 평균이 다르지 않다.\n",
      "40번째 카테고리와 62번째 카테고리의 평균이 다르지 않다.\n",
      "40번째 카테고리와 63번째 카테고리의 평균이 다르지 않다.\n",
      "40번째 카테고리와 64번째 카테고리의 평균이 다르지 않다.\n",
      "40번째 카테고리와 65번째 카테고리의 평균이 다르지 않다.\n",
      "40번째 카테고리와 66번째 카테고리의 평균이 다르지 않다.\n",
      "40번째 카테고리와 67번째 카테고리의 평균이 다르지 않다.\n",
      "40번째 카테고리와 68번째 카테고리의 평균이 다르지 않다.\n",
      "40번째 카테고리와 69번째 카테고리의 평균이 다르지 않다.\n",
      "40번째 카테고리와 70번째 카테고리의 평균이 다르지 않다.\n",
      "40번째 카테고리와 71번째 카테고리의 평균이 다르지 않다.\n",
      "40번째 카테고리와 72번째 카테고리의 평균이 다르지 않다.\n",
      "40번째 카테고리와 73번째 카테고리의 평균이 다르지 않다.\n",
      "40번째 카테고리와 74번째 카테고리의 평균이 다르지 않다.\n",
      "40번째 카테고리와 75번째 카테고리의 평균이 다르지 않다.\n",
      "40번째 카테고리와 76번째 카테고리의 평균이 다르지 않다.\n",
      "40번째 카테고리와 77번째 카테고리의 평균이 다르지 않다.\n",
      "40번째 카테고리와 78번째 카테고리의 평균이 다르지 않다.\n",
      "40번째 카테고리와 79번째 카테고리의 평균이 다르지 않다.\n",
      "40번째 카테고리와 80번째 카테고리의 평균이 다르지 않다.\n",
      "40번째 카테고리와 81번째 카테고리의 평균이 다르지 않다.\n",
      "40번째 카테고리와 82번째 카테고리의 평균이 다르지 않다.\n",
      "40번째 카테고리와 83번째 카테고리의 평균이 다르지 않다.\n",
      "40번째 카테고리와 84번째 카테고리의 평균이 다르지 않다.\n",
      "40번째 카테고리와 85번째 카테고리의 평균이 다르지 않다.\n",
      "40번째 카테고리와 86번째 카테고리의 평균이 다르지 않다.\n",
      "40번째 카테고리와 87번째 카테고리의 평균이 다르지 않다.\n",
      "40번째 카테고리와 88번째 카테고리의 평균이 다르지 않다.\n",
      "40번째 카테고리와 89번째 카테고리의 평균이 다르지 않다.\n",
      "40번째 카테고리와 90번째 카테고리의 평균이 다르지 않다.\n",
      "63번째 카테고리와 64번째 카테고리의 평균이 다르지 않다.\n",
      "63번째 카테고리와 65번째 카테고리의 평균이 다르지 않다.\n",
      "63번째 카테고리와 66번째 카테고리의 평균이 다르지 않다.\n",
      "63번째 카테고리와 67번째 카테고리의 평균이 다르지 않다.\n",
      "63번째 카테고리와 68번째 카테고리의 평균이 다르지 않다.\n",
      "63번째 카테고리와 69번째 카테고리의 평균이 다르지 않다.\n",
      "63번째 카테고리와 70번째 카테고리의 평균이 다르지 않다.\n",
      "63번째 카테고리와 71번째 카테고리의 평균이 다르지 않다.\n",
      "63번째 카테고리와 72번째 카테고리의 평균이 다르지 않다.\n",
      "63번째 카테고리와 73번째 카테고리의 평균이 다르지 않다.\n",
      "63번째 카테고리와 74번째 카테고리의 평균이 다르지 않다.\n",
      "63번째 카테고리와 75번째 카테고리의 평균이 다르지 않다.\n",
      "63번째 카테고리와 76번째 카테고리의 평균이 다르지 않다.\n",
      "63번째 카테고리와 77번째 카테고리의 평균이 다르지 않다.\n",
      "63번째 카테고리와 78번째 카테고리의 평균이 다르지 않다.\n",
      "63번째 카테고리와 79번째 카테고리의 평균이 다르지 않다.\n",
      "63번째 카테고리와 80번째 카테고리의 평균이 다르지 않다.\n",
      "63번째 카테고리와 81번째 카테고리의 평균이 다르지 않다.\n",
      "63번째 카테고리와 82번째 카테고리의 평균이 다르지 않다.\n",
      "63번째 카테고리와 83번째 카테고리의 평균이 다르지 않다.\n",
      "63번째 카테고리와 84번째 카테고리의 평균이 다르지 않다.\n",
      "63번째 카테고리와 85번째 카테고리의 평균이 다르지 않다.\n",
      "63번째 카테고리와 86번째 카테고리의 평균이 다르지 않다.\n",
      "63번째 카테고리와 87번째 카테고리의 평균이 다르지 않다.\n",
      "63번째 카테고리와 88번째 카테고리의 평균이 다르지 않다.\n",
      "63번째 카테고리와 89번째 카테고리의 평균이 다르지 않다.\n",
      "63번째 카테고리와 90번째 카테고리의 평균이 다르지 않다.\n",
      "65번째 카테고리와 66번째 카테고리의 평균이 다르지 않다.\n",
      "65번째 카테고리와 67번째 카테고리의 평균이 다르지 않다.\n",
      "65번째 카테고리와 68번째 카테고리의 평균이 다르지 않다.\n",
      "65번째 카테고리와 69번째 카테고리의 평균이 다르지 않다.\n",
      "65번째 카테고리와 70번째 카테고리의 평균이 다르지 않다.\n",
      "65번째 카테고리와 71번째 카테고리의 평균이 다르지 않다.\n",
      "65번째 카테고리와 72번째 카테고리의 평균이 다르지 않다.\n",
      "65번째 카테고리와 73번째 카테고리의 평균이 다르지 않다.\n",
      "65번째 카테고리와 74번째 카테고리의 평균이 다르지 않다.\n",
      "65번째 카테고리와 75번째 카테고리의 평균이 다르지 않다.\n",
      "65번째 카테고리와 76번째 카테고리의 평균이 다르지 않다.\n",
      "65번째 카테고리와 77번째 카테고리의 평균이 다르지 않다.\n",
      "65번째 카테고리와 78번째 카테고리의 평균이 다르지 않다.\n",
      "65번째 카테고리와 79번째 카테고리의 평균이 다르지 않다.\n",
      "65번째 카테고리와 80번째 카테고리의 평균이 다르지 않다.\n",
      "65번째 카테고리와 81번째 카테고리의 평균이 다르지 않다.\n",
      "65번째 카테고리와 82번째 카테고리의 평균이 다르지 않다.\n",
      "65번째 카테고리와 83번째 카테고리의 평균이 다르지 않다.\n",
      "65번째 카테고리와 84번째 카테고리의 평균이 다르지 않다.\n",
      "65번째 카테고리와 85번째 카테고리의 평균이 다르지 않다.\n",
      "65번째 카테고리와 86번째 카테고리의 평균이 다르지 않다.\n",
      "65번째 카테고리와 87번째 카테고리의 평균이 다르지 않다.\n",
      "65번째 카테고리와 88번째 카테고리의 평균이 다르지 않다.\n",
      "65번째 카테고리와 89번째 카테고리의 평균이 다르지 않다.\n",
      "65번째 카테고리와 90번째 카테고리의 평균이 다르지 않다.\n",
      "81번째 카테고리와 82번째 카테고리의 평균이 다르지 않다.\n",
      "81번째 카테고리와 83번째 카테고리의 평균이 다르지 않다.\n",
      "81번째 카테고리와 84번째 카테고리의 평균이 다르지 않다.\n",
      "81번째 카테고리와 85번째 카테고리의 평균이 다르지 않다.\n",
      "81번째 카테고리와 86번째 카테고리의 평균이 다르지 않다.\n",
      "81번째 카테고리와 87번째 카테고리의 평균이 다르지 않다.\n",
      "81번째 카테고리와 88번째 카테고리의 평균이 다르지 않다.\n",
      "81번째 카테고리와 89번째 카테고리의 평균이 다르지 않다.\n",
      "81번째 카테고리와 90번째 카테고리의 평균이 다르지 않다.\n"
     ]
    }
   ],
   "source": [
    "i_j_cosine_similarity = {}\n",
    "problem = []\n",
    "for i in range(0,91):\n",
    "\n",
    "    # 카테고리의 within similarity 계산\n",
    "    within_similarity_matrix = cosine_similarity(ith_category_matrix[str(i)])\n",
    "    within_similarity = []\n",
    "    for n in range(0, 111):\n",
    "        for m in range(n+1, 111):\n",
    "            within_similarity.append(within_similarity_matrix[n][m])\n",
    "\n",
    "    within_similarity = np.array(within_similarity)\n",
    "\n",
    "    for j in range(i+1, 91): # i와 j 카테고리 선택\n",
    "\n",
    "\n",
    "\n",
    "        # i와 j의 코사인 between similarity를 rank-1 array로 저장\n",
    "        between_similarity_matrix = cosine_similarity(ith_category_matrix[str(i)], ith_category_matrix[str(i)])\n",
    "\n",
    "        between_similarity = []\n",
    "        for r in range(0, 111):\n",
    "            for c in range(r, 111) : # 서로 다른 i,j 집단이기 때문에 유사도 행렬의 n,n 요소도 포함한다.\n",
    "                between_similarity.append(between_similarity_matrix[r][c])\n",
    "\n",
    "        between_similarity = np.array(between_similarity)\n",
    "\n",
    "        # t 검정\n",
    "        inner_group = within_similarity\n",
    "        outer_group = between_similarity\n",
    "        homo, p = homogenity(inner_group, outer_group)\n",
    "\n",
    "        group_label = str(i)\n",
    "        result = t_test(inner_group, outer_group, homo)\n",
    "        \n",
    "        if result[0] == 0:\n",
    "            print(str(i) + \"번째 카테고리와 \" + str(j) + \"번째 카테고리의 평균이 다르지 않다.\")\n",
    "            problem.append(str(i)+\"_\"+str(j))\n"
   ]
  },
  {
   "cell_type": "code",
   "execution_count": null,
   "metadata": {
    "colab": {
     "base_uri": "https://localhost:8080/",
     "height": 34
    },
    "colab_type": "code",
    "id": "0c0a9akGMr80",
    "outputId": "a8af610d-ddaf-48a2-abbf-769b40322b13"
   },
   "outputs": [
    {
     "data": {
      "text/plain": [
       "[]"
      ]
     },
     "execution_count": 39,
     "metadata": {
      "tags": []
     },
     "output_type": "execute_result"
    }
   ],
   "source": [
    "problem"
   ]
  }
 ],
 "metadata": {
  "colab": {
   "collapsed_sections": [],
   "name": "inner_outer.ipynb",
   "provenance": [],
   "toc_visible": true
  },
  "kernelspec": {
   "display_name": "Python 3",
   "language": "python",
   "name": "python3"
  },
  "language_info": {
   "codemirror_mode": {
    "name": "ipython",
    "version": 3
   },
   "file_extension": ".py",
   "mimetype": "text/x-python",
   "name": "python",
   "nbconvert_exporter": "python",
   "pygments_lexer": "ipython3",
   "version": "3.7.6"
  }
 },
 "nbformat": 4,
 "nbformat_minor": 1
}
